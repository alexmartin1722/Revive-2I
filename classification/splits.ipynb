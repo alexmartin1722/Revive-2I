{
 "cells": [
  {
   "cell_type": "code",
   "execution_count": 1,
   "metadata": {},
   "outputs": [],
   "source": [
    "import sys \n",
    "import os"
   ]
  },
  {
   "cell_type": "code",
   "execution_count": 36,
   "metadata": {},
   "outputs": [],
   "source": [
    "import pandas as pd\n",
    "import shutil\n",
    "import numpy as np"
   ]
  },
  {
   "cell_type": "code",
   "execution_count": 3,
   "metadata": {},
   "outputs": [],
   "source": [
    "important_classes = ['Rottweiler', 'boxer', 'Boston bull', 'Chihuahua', 'Great Dane', 'Pekinese']"
   ]
  },
  {
   "cell_type": "code",
   "execution_count": 4,
   "metadata": {},
   "outputs": [],
   "source": [
    "# afhq_csv1 = C:\\Users\\amart50\\Desktop\\AFHQ\\train_dog_labels.csv\n",
    "dog_df = pd.read_csv(\"C:\\\\Users\\\\amart50\\\\Desktop\\\\AFHQ\\\\train_dog_labels.csv\")\n",
    "dog_df2 = pd.read_csv(\"C:\\\\Users\\\\amart50\\\\Desktop\\\\AFHQ\\\\test_dog_labels.csv\")\n",
    "\n",
    "#join the two dataframes into dog_df\n",
    "# dog_df = dog_df.append(dog_df2, ignore_index=True) # append doesnt exist\n",
    "# dog_df = pd.concat([dog_df, dog_df2], ignore_index=True)"
   ]
  },
  {
   "cell_type": "code",
   "execution_count": 5,
   "metadata": {},
   "outputs": [],
   "source": [
    "# C:\\Users\\amart50\\Desktop\\skull2animal\\skull2dog\\class -- folder for sorted images\n",
    "\n",
    "# for image in dog_df, if it is in important_classes, move it to the folder\n",
    "for index, row in dog_df.iterrows():\n",
    "    image_path = \"C:\\\\Users\\\\amart50\\\\Desktop\\\\AFHQ\\\\train\\\\dog\\\\\" + row['filename']\n",
    "    if row['label'] in important_classes:\n",
    "        if os.path.exists(\"C:\\\\Users\\\\amart50\\\\Desktop\\\\skull2animal\\\\skull2dog\\\\class\\\\\" + row['label']):\n",
    "            shutil.copy(image_path, \"C:\\\\Users\\\\amart50\\\\Desktop\\\\skull2animal\\\\skull2dog\\\\class\\\\\" + row['label'] + \"\\\\\" + row['filename']) \n",
    "        else:\n",
    "            os.mkdir(\"C:\\\\Users\\\\amart50\\\\Desktop\\\\skull2animal\\\\skull2dog\\\\class\\\\\" + row['label'])\n",
    "            shutil.copy(image_path, \"C:\\\\Users\\\\amart50\\\\Desktop\\\\skull2animal\\\\skull2dog\\\\class\\\\\" + row['label'] + \"\\\\\" + row['filename']) "
   ]
  },
  {
   "cell_type": "code",
   "execution_count": 6,
   "metadata": {},
   "outputs": [],
   "source": [
    "for index, row in dog_df2.iterrows():\n",
    "    image_path = \"C:\\\\Users\\\\amart50\\\\Desktop\\\\AFHQ\\\\test\\\\dog\\\\\" + row['filename']\n",
    "    if row['label'] in important_classes:\n",
    "        if os.path.exists(\"C:\\\\Users\\\\amart50\\\\Desktop\\\\skull2animal\\\\skull2dog\\\\class\\\\\" + row['label']):\n",
    "            shutil.copy(image_path, \"C:\\\\Users\\\\amart50\\\\Desktop\\\\skull2animal\\\\skull2dog\\\\class\\\\\" + row['label'] + \"\\\\\" + row['filename']) \n",
    "        else:\n",
    "            os.mkdir(\"C:\\\\Users\\\\amart50\\\\Desktop\\\\skull2animal\\\\skull2dog\\\\class\\\\\" + row['label'])\n",
    "            shutil.copy(image_path, \"C:\\\\Users\\\\amart50\\\\Desktop\\\\skull2animal\\\\skull2dog\\\\class\\\\\" + row['label'] + \"\\\\\" + row['filename']) "
   ]
  },
  {
   "cell_type": "code",
   "execution_count": 14,
   "metadata": {},
   "outputs": [
    {
     "name": "stdout",
     "output_type": "stream",
     "text": [
      "Boston bull 22\n",
      "boxer 71\n",
      "Chihuahua 215\n",
      "Great Dane 27\n",
      "Pekinese 26\n",
      "Rottweiler 61\n",
      "422\n"
     ]
    }
   ],
   "source": [
    "# for every folder in class, count how many images are in that folder \n",
    "dog_count = 0\n",
    "for folder in os.listdir(\"C:\\\\Users\\\\amart50\\\\Desktop\\\\skull2animal\\\\skull2dog\\\\class\\\\\"):\n",
    "    print(folder, len(os.listdir(\"C:\\\\Users\\\\amart50\\\\Desktop\\\\skull2animal\\\\skull2dog\\\\class\\\\\" + folder)))\n",
    "    dog_count += len(os.listdir(\"C:\\\\Users\\\\amart50\\\\Desktop\\\\skull2animal\\\\skull2dog\\\\class\\\\\" + folder))\n",
    "print(dog_count)"
   ]
  },
  {
   "cell_type": "code",
   "execution_count": 8,
   "metadata": {},
   "outputs": [],
   "source": [
    "important_cats = ['Siamese cat']\n",
    "cat_df = pd.read_csv(\"C:\\\\Users\\\\amart50\\\\Desktop\\\\AFHQ\\\\train_cat_labels.csv\")\n",
    "cat_df2 = pd.read_csv(\"C:\\\\Users\\\\amart50\\\\Desktop\\\\AFHQ\\\\test_cat_labels.csv\")"
   ]
  },
  {
   "cell_type": "code",
   "execution_count": 9,
   "metadata": {},
   "outputs": [],
   "source": [
    "for index, row in cat_df.iterrows():\n",
    "    image_path = \"C:\\\\Users\\\\amart50\\\\Desktop\\\\AFHQ\\\\train\\\\cat\\\\\" + row['filename']\n",
    "    if row['label'] in important_cats:\n",
    "        if os.path.exists(\"C:\\\\Users\\\\amart50\\\\Desktop\\\\skull2animal\\\\skull2cat\\\\class\\\\\" + row['label']):\n",
    "            shutil.copy(image_path, \"C:\\\\Users\\\\amart50\\\\Desktop\\\\skull2animal\\\\skull2cat\\\\class\\\\\" + row['label'] + \"\\\\\" + row['filename']) \n",
    "        else:\n",
    "            os.mkdir(\"C:\\\\Users\\\\amart50\\\\Desktop\\\\skull2animal\\\\skull2cat\\\\class\\\\\" + row['label'])\n",
    "            shutil.copy(image_path, \"C:\\\\Users\\\\amart50\\\\Desktop\\\\skull2animal\\\\skull2cat\\\\class\\\\\" + row['label'] + \"\\\\\" + row['filename'])"
   ]
  },
  {
   "cell_type": "code",
   "execution_count": 10,
   "metadata": {},
   "outputs": [],
   "source": [
    "for index, row in cat_df2.iterrows():\n",
    "    image_path = \"C:\\\\Users\\\\amart50\\\\Desktop\\\\AFHQ\\\\test\\\\cat\\\\\" + row['filename']\n",
    "    if row['label'] in important_cats:\n",
    "        if os.path.exists(\"C:\\\\Users\\\\amart50\\\\Desktop\\\\skull2animal\\\\skull2cat\\\\class\\\\\" + row['label']):\n",
    "            shutil.copy(image_path, \"C:\\\\Users\\\\amart50\\\\Desktop\\\\skull2animal\\\\skull2cat\\\\class\\\\\" + row['label'] + \"\\\\\" + row['filename']) \n",
    "        else:\n",
    "            os.mkdir(\"C:\\\\Users\\\\amart50\\\\Desktop\\\\skull2animal\\\\skull2cat\\\\class\\\\\" + row['label'])\n",
    "            shutil.copy(image_path, \"C:\\\\Users\\\\amart50\\\\Desktop\\\\skull2animal\\\\skull2cat\\\\class\\\\\" + row['label'] + \"\\\\\" + row['filename'])"
   ]
  },
  {
   "cell_type": "code",
   "execution_count": 11,
   "metadata": {},
   "outputs": [
    {
     "name": "stdout",
     "output_type": "stream",
     "text": [
      "Siamese cat 318\n",
      "318\n"
     ]
    }
   ],
   "source": [
    "# for every folder in class, count how many images are in that folder \n",
    "cat_sum = 0\n",
    "for folder in os.listdir(\"C:\\\\Users\\\\amart50\\\\Desktop\\\\skull2animal\\\\skull2cat\\\\class\\\\\"):\n",
    "    print(folder, len(os.listdir(\"C:\\\\Users\\\\amart50\\\\Desktop\\\\skull2animal\\\\skull2cat\\\\class\\\\\" + folder)))\n",
    "    cat_sum += len(os.listdir(\"C:\\\\Users\\\\amart50\\\\Desktop\\\\skull2animal\\\\skull2cat\\\\class\\\\\" + folder))\n",
    "print(cat_sum)"
   ]
  },
  {
   "cell_type": "code",
   "execution_count": 29,
   "metadata": {},
   "outputs": [
    {
     "name": "stdout",
     "output_type": "stream",
     "text": [
      "1201\n",
      "779\n"
     ]
    }
   ],
   "source": [
    "dog_skull_count = len(os.listdir(\"C:\\\\Users\\\\amart50\\\\Desktop\\\\skull2animal\\\\skull2dog\\\\trainA\"))\n",
    "dog_skull_count += len(os.listdir(\"C:\\\\Users\\\\amart50\\\\Desktop\\\\skull2animal\\\\skull2dog\\\\testA\"))\n",
    "print(dog_skull_count)\n",
    "print(dog_skull_count-dog_count)\n",
    "additional_dogs = dog_skull_count-dog_count"
   ]
  },
  {
   "cell_type": "code",
   "execution_count": 30,
   "metadata": {},
   "outputs": [
    {
     "name": "stdout",
     "output_type": "stream",
     "text": [
      "['Tibetan terrier' 'Labrador retriever' 'Blenheim spaniel' 'malamute'\n",
      " 'American Staffordshire terrier' 'Australian terrier'\n",
      " 'Staffordshire bullterrier' 'redbone' 'German shepherd' 'whippet'\n",
      " 'Scottish deerhound' 'Border collie' 'standard poodle' 'English setter'\n",
      " 'miniature poodle' 'Samoyed' 'Weimaraner' 'Sussex spaniel' 'Eskimo dog'\n",
      " 'Pembroke' 'kelpie' 'miniature schnauzer' 'malinois' 'bull mastiff'\n",
      " 'Brittany spaniel' 'Doberman' 'golden retriever' 'dingo' 'cocker spaniel'\n",
      " 'dalmatian' 'Yorkshire terrier' 'papillon' 'Newfoundland' 'Gordon setter'\n",
      " 'French bulldog' 'pug' 'collie' 'English foxhound'\n",
      " 'Greater Swiss Mountain dog' 'Pomeranian' 'Welsh springer spaniel'\n",
      " 'wire-haired fox terrier' 'Shetland sheepdog' 'timber wolf'\n",
      " 'Chesapeake Bay retriever' 'German short-haired pointer' 'beagle'\n",
      " 'toy terrier' 'Cardigan' 'Norwich terrier' 'Border terrier' 'Airedale'\n",
      " 'toy poodle' 'basenji' 'basset' 'English springer' 'Maltese dog'\n",
      " 'Ibizan hound' 'chow' 'Rhodesian ridgeback' 'Lhasa' 'vizsla'\n",
      " 'West Highland white terrier' 'Bernese mountain dog' 'Appenzeller'\n",
      " 'Italian greyhound' 'Norfolk terrier' 'Walker hound' 'Dandie Dinmont'\n",
      " 'Norwegian elkhound' 'Saluki' 'miniature pinscher' 'cairn' 'bluetick'\n",
      " 'black-and-tan coonhound' 'tennis ball' 'Great Pyrenees' 'Irish terrier'\n",
      " 'Shih-Tzu' 'Irish setter' 'otterhound' 'Japanese spaniel'\n",
      " 'Sealyham terrier' 'flat-coated retriever' 'Afghan hound'\n",
      " 'Mexican hairless' 'Irish wolfhound' 'giant schnauzer' 'silky terrier'\n",
      " 'affenpinscher' 'briard' 'Saint Bernard' 'Siberian husky' 'white wolf'\n",
      " 'Leonberg' 'kuvasz' 'schipperke' 'clumber' 'brown bear'\n",
      " 'Lakeland terrier' 'soft-coated wheaten terrier' 'keeshond'\n",
      " 'Tibetan mastiff' 'groenendael' 'Brabancon griffon' 'standard schnauzer'\n",
      " 'Arctic fox' 'EntleBucher' 'Old English sheepdog' 'Scotch terrier'\n",
      " 'bloodhound' 'red wolf' 'hamper' 'borzoi' 'bath towel' 'dogsled'\n",
      " 'Bedlington terrier']\n"
     ]
    }
   ],
   "source": [
    "combined_dog_df = pd.concat([dog_df, dog_df2], ignore_index=True)\n",
    "#drop rows with labels in important_classes\n",
    "for index, row in combined_dog_df.iterrows():\n",
    "    if row['label'] in important_classes:\n",
    "        combined_dog_df.drop(index, inplace=True)\n",
    "print(combined_dog_df['label'].unique())"
   ]
  },
  {
   "cell_type": "code",
   "execution_count": 31,
   "metadata": {},
   "outputs": [],
   "source": [
    "#randomly select additional images from the combined_dog_df and copy them to the dog folder until additonal_dogs is 0\n",
    "dog_folder = 'C:\\\\Users\\\\amart50\\\\Desktop\\\\skull2animal\\\\skull2dog\\\\class\\\\Other'\n",
    "while additional_dogs > 0:\n",
    "    random_row = combined_dog_df.sample()\n",
    "    #check if image is alread in the folder \n",
    "    if os.path.exists(\"C:\\\\Users\\\\amart50\\\\Desktop\\\\skull2animal\\\\skull2dog\\\\class\\\\Other\\\\\" + random_row['filename'].values[0]):\n",
    "        continue\n",
    "    else:\n",
    "        #check if image is in the train folder \n",
    "        if os.path.exists(\"C:\\\\Users\\\\amart50\\\\Desktop\\\\AFHQ\\\\train\\\\dog\\\\\" + random_row['filename'].values[0]):\n",
    "            shutil.copy(\"C:\\\\Users\\\\amart50\\\\Desktop\\\\AFHQ\\\\train\\\\dog\\\\\" + random_row['filename'].values[0], \"C:\\\\Users\\\\amart50\\\\Desktop\\\\skull2animal\\\\skull2dog\\\\class\\\\Other\\\\\" + random_row['filename'].values[0])\n",
    "            additional_dogs -= 1\n",
    "        #check if image is in the test folder\n",
    "        elif os.path.exists(\"C:\\\\Users\\\\amart50\\\\Desktop\\\\AFHQ\\\\test\\\\dog\\\\\" + random_row['filename'].values[0]):\n",
    "            shutil.copy(\"C:\\\\Users\\\\amart50\\\\Desktop\\\\AFHQ\\\\test\\\\dog\\\\\" + random_row['filename'].values[0], \"C:\\\\Users\\\\amart50\\\\Desktop\\\\skull2animal\\\\skull2dog\\\\class\\\\Other\\\\\" + random_row['filename'].values[0])\n",
    "            additional_dogs -= 1\n",
    "        # shutil.copy(\"C:\\\\Users\\\\amart50\\\\Desktop\\\\AFHQ\\\\train\\\\dog\\\\\" + random_row['filename'].values[0], \"C:\\\\Users\\\\amart50\\\\Desktop\\\\skull2animal\\\\skull2dog\\\\class\\\\Other\\\\\" + random_row['filename'].values[0])\n",
    "        # additional_dogs -= 1"
   ]
  },
  {
   "cell_type": "code",
   "execution_count": 32,
   "metadata": {},
   "outputs": [
    {
     "name": "stdout",
     "output_type": "stream",
     "text": [
      "779\n"
     ]
    }
   ],
   "source": [
    "print(len(os.listdir(\"C:\\\\Users\\\\amart50\\\\Desktop\\\\skull2animal\\\\skull2dog\\\\class\\\\Other\")))"
   ]
  },
  {
   "cell_type": "code",
   "execution_count": 34,
   "metadata": {},
   "outputs": [
    {
     "name": "stdout",
     "output_type": "stream",
     "text": [
      "1201\n"
     ]
    }
   ],
   "source": [
    "class_folder = 'C:\\\\Users\\\\amart50\\\\Desktop\\\\skull2animal\\\\skull2dog\\\\class'\n",
    "\n",
    "#for folder in class folder, copy the contents to 'C:\\Users\\amart50\\Desktop\\skull2animal\\skull2dog\\combined_dogs'\n",
    "for folder in os.listdir(class_folder):\n",
    "    for image in os.listdir(class_folder + \"\\\\\" + folder):\n",
    "        shutil.copy(class_folder + \"\\\\\" + folder + \"\\\\\" + image, \"C:\\\\Users\\\\amart50\\\\Desktop\\\\skull2animal\\\\skull2dog\\\\combined_dogs\\\\\" + image)\n",
    "print(len(os.listdir(\"C:\\\\Users\\\\amart50\\\\Desktop\\\\skull2animal\\\\skull2dog\\\\combined_dogs\")))"
   ]
  },
  {
   "cell_type": "code",
   "execution_count": 35,
   "metadata": {},
   "outputs": [
    {
     "name": "stdout",
     "output_type": "stream",
     "text": [
      "121\n"
     ]
    }
   ],
   "source": [
    "testA = 'C:\\\\Users\\\\amart50\\\\Desktop\\\\skull2animal\\\\skull2dog\\\\testA'\n",
    "test_images= len(os.listdir(testA))\n",
    "print(test_images)"
   ]
  },
  {
   "cell_type": "code",
   "execution_count": 37,
   "metadata": {},
   "outputs": [
    {
     "name": "stdout",
     "output_type": "stream",
     "text": [
      "121 1080\n"
     ]
    }
   ],
   "source": [
    "test_dogs = 0\n",
    "while test_dogs < test_images:\n",
    "    #randomly select an image from the combined_dogs folder and put it in the testA folder\n",
    "    random_image = os.listdir(\"C:\\\\Users\\\\amart50\\\\Desktop\\\\skull2animal\\\\skull2dog\\\\combined_dogs\")[np.random.randint(0, len(os.listdir(\"C:\\\\Users\\\\amart50\\\\Desktop\\\\skull2animal\\\\skull2dog\\\\combined_dogs\")))]\n",
    "    # move the image into the folder and remove it from the combined_dogs folder\n",
    "    shutil.move(\"C:\\\\Users\\\\amart50\\\\Desktop\\\\skull2animal\\\\skull2dog\\\\combined_dogs\\\\\" + random_image, \"C:\\\\Users\\\\amart50\\\\Desktop\\\\skull2animal\\\\skull2dog\\\\testB\\\\\" + random_image)\n",
    "    test_dogs += 1\n",
    "\n",
    "print(len(os.listdir(\"C:\\\\Users\\\\amart50\\\\Desktop\\\\skull2animal\\\\skull2dog\\\\testB\")), len(os.listdir(\"C:\\\\Users\\\\amart50\\\\Desktop\\\\skull2animal\\\\skull2dog\\\\combined_dogs\")))"
   ]
  },
  {
   "attachments": {},
   "cell_type": "markdown",
   "metadata": {},
   "source": [
    "Wild Animals\n"
   ]
  },
  {
   "cell_type": "code",
   "execution_count": 39,
   "metadata": {},
   "outputs": [],
   "source": [
    "fox_classes = ['red fox', 'kit fox', 'Arctic fox', 'grey fox']\n",
    "leopard_classes = ['leopard', 'snow leopard', 'cheetah', 'jaguar']"
   ]
  },
  {
   "cell_type": "code",
   "execution_count": 40,
   "metadata": {},
   "outputs": [],
   "source": [
    "wild_df = pd.read_csv(\"C:\\\\Users\\\\amart50\\\\Desktop\\\\AFHQ\\\\train_wild_labels.csv\")\n",
    "wild_df2 = pd.read_csv(\"C:\\\\Users\\\\amart50\\\\Desktop\\\\AFHQ\\\\test_wild_labels.csv\")"
   ]
  },
  {
   "cell_type": "code",
   "execution_count": 41,
   "metadata": {},
   "outputs": [],
   "source": [
    "# foxes \n",
    "skull2fox = 'C:\\\\Users\\\\amart50\\\\Desktop\\\\skull2animal\\\\skull2fox\\\\class'\n",
    "for index, row in wild_df.iterrows():\n",
    "    image_path = \"C:\\\\Users\\\\amart50\\\\Desktop\\\\AFHQ\\\\train\\\\wild\\\\\" + row['filename']\n",
    "    if row['label'] in fox_classes:\n",
    "        if os.path.exists(skull2fox + \"\\\\\" + row['label']):\n",
    "            shutil.copy(image_path, skull2fox + \"\\\\\" + row['label'] + \"\\\\\" + row['filename']) \n",
    "        else:\n",
    "            os.mkdir(skull2fox + \"\\\\\" + row['label'])\n",
    "            shutil.copy(image_path, skull2fox + \"\\\\\" + row['label'] + \"\\\\\" + row['filename'])\n",
    "            "
   ]
  },
  {
   "cell_type": "code",
   "execution_count": 42,
   "metadata": {},
   "outputs": [],
   "source": [
    "for index, row in wild_df2.iterrows():\n",
    "    image_path = \"C:\\\\Users\\\\amart50\\\\Desktop\\\\AFHQ\\\\test\\\\wild\\\\\" + row['filename']\n",
    "    if row['label'] in fox_classes:\n",
    "        if os.path.exists(skull2fox + \"\\\\\" + row['label']):\n",
    "            shutil.copy(image_path, skull2fox + \"\\\\\" + row['label'] + \"\\\\\" + row['filename']) \n",
    "        else:\n",
    "            os.mkdir(skull2fox + \"\\\\\" + row['label'])\n",
    "            shutil.copy(image_path, skull2fox + \"\\\\\" + row['label'] + \"\\\\\" + row['filename'])"
   ]
  },
  {
   "cell_type": "code",
   "execution_count": 43,
   "metadata": {},
   "outputs": [
    {
     "name": "stdout",
     "output_type": "stream",
     "text": [
      "Arctic fox 55\n",
      "grey fox 44\n",
      "kit fox 84\n",
      "red fox 281\n"
     ]
    }
   ],
   "source": [
    "for folder in os.listdir(skull2fox):\n",
    "    print(folder, len(os.listdir(skull2fox + \"\\\\\" + folder)))\n",
    "    "
   ]
  },
  {
   "cell_type": "code",
   "execution_count": 45,
   "metadata": {},
   "outputs": [
    {
     "name": "stdout",
     "output_type": "stream",
     "text": [
      "201 152 201 554\n"
     ]
    }
   ],
   "source": [
    "# combine fox skulls into one foldr \n",
    "fennec_count = len(os.listdir('C:\\\\Users\\\\amart50\\\\Desktop\\\\wild\\\\fennecfox\\\\skull'))\n",
    "kit_count = len(os.listdir('C:\\\\Users\\\\amart50\\\\Desktop\\\\wild\\\\kitfox\\\\skull'))\n",
    "red_count = len(os.listdir('C:\\\\Users\\\\amart50\\\\Desktop\\\\wild\\\\redfox\\\\skull'))\n",
    "print(fennec_count, kit_count, red_count, fennec_count+kit_count+red_count)"
   ]
  },
  {
   "cell_type": "code",
   "execution_count": 49,
   "metadata": {},
   "outputs": [],
   "source": [
    "# rename each image in the folder to the name of the folder + the number of the image\n",
    "for image in os.listdir('C:\\\\Users\\\\amart50\\\\Desktop\\\\wild\\\\fennecfox\\\\skull'):\n",
    "    new_name = image.replace('_MG','fennecfox')\n",
    "    os.rename('C:\\\\Users\\\\amart50\\\\Desktop\\\\wild\\\\fennecfox\\\\skull\\\\' + image, 'C:\\\\Users\\\\amart50\\\\Desktop\\\\wild\\\\fennecfox\\\\skull\\\\' + new_name)\n",
    "\n",
    "for image in os.listdir('C:\\\\Users\\\\amart50\\\\Desktop\\\\wild\\\\kitfox\\\\skull'):\n",
    "    new_name = image.replace('_MG','kitfox')\n",
    "    os.rename('C:\\\\Users\\\\amart50\\\\Desktop\\\\wild\\\\kitfox\\\\skull\\\\' + image, 'C:\\\\Users\\\\amart50\\\\Desktop\\\\wild\\\\kitfox\\\\skull\\\\' + new_name)\n",
    "\n",
    "for image in os.listdir('C:\\\\Users\\\\amart50\\\\Desktop\\\\wild\\\\redfox\\\\skull'):\n",
    "    new_name = image.replace('_MG','redfox')\n",
    "    os.rename('C:\\\\Users\\\\amart50\\\\Desktop\\\\wild\\\\redfox\\\\skull\\\\' + image, 'C:\\\\Users\\\\amart50\\\\Desktop\\\\wild\\\\redfox\\\\skull\\\\' + new_name)"
   ]
  },
  {
   "cell_type": "code",
   "execution_count": 50,
   "metadata": {},
   "outputs": [],
   "source": [
    "# combine all fox skulls into one folder\n",
    "for image in os.listdir('C:\\\\Users\\\\amart50\\\\Desktop\\\\wild\\\\fennecfox\\\\skull'):\n",
    "    shutil.copy('C:\\\\Users\\\\amart50\\\\Desktop\\\\wild\\\\fennecfox\\\\skull\\\\' + image, 'C:\\\\Users\\\\amart50\\\\Desktop\\\\wild\\\\fox\\\\skull\\\\' + image)\n",
    "\n",
    "for image in os.listdir('C:\\\\Users\\\\amart50\\\\Desktop\\\\wild\\\\kitfox\\\\skull'):\n",
    "    shutil.copy('C:\\\\Users\\\\amart50\\\\Desktop\\\\wild\\\\kitfox\\\\skull\\\\' + image, 'C:\\\\Users\\\\amart50\\\\Desktop\\\\wild\\\\fox\\\\skull\\\\' + image)\n",
    "\n",
    "for image in os.listdir('C:\\\\Users\\\\amart50\\\\Desktop\\\\wild\\\\redfox\\\\skull'):\n",
    "    shutil.copy('C:\\\\Users\\\\amart50\\\\Desktop\\\\wild\\\\redfox\\\\skull\\\\' + image, 'C:\\\\Users\\\\amart50\\\\Desktop\\\\wild\\\\fox\\\\skull\\\\' + image)\n",
    "    "
   ]
  },
  {
   "cell_type": "code",
   "execution_count": 52,
   "metadata": {},
   "outputs": [
    {
     "name": "stdout",
     "output_type": "stream",
     "text": [
      "554\n",
      "55\n"
     ]
    }
   ],
   "source": [
    "# make train and test split with 90/10 split\n",
    "fox_skull_count = len(os.listdir('C:\\\\Users\\\\amart50\\\\Desktop\\\\wild\\\\fox\\\\skull'))\n",
    "print(fox_skull_count)\n",
    "test_foxes = int(fox_skull_count * .1)\n",
    "print(test_foxes)\n",
    "\n",
    "# move test_foxes images from fox/skull to fox/testA\n",
    "for i in range(test_foxes):\n",
    "    random_image = os.listdir('C:\\\\Users\\\\amart50\\\\Desktop\\\\wild\\\\fox\\\\skull')[np.random.randint(0, len(os.listdir('C:\\\\Users\\\\amart50\\\\Desktop\\\\wild\\\\fox\\\\skull')))]\n",
    "    shutil.move('C:\\\\Users\\\\amart50\\\\Desktop\\\\wild\\\\fox\\\\skull\\\\' + random_image, 'C:\\\\Users\\\\amart50\\\\Desktop\\\\wild\\\\fox\\\\testA\\\\' + random_image)"
   ]
  },
  {
   "cell_type": "code",
   "execution_count": 53,
   "metadata": {},
   "outputs": [],
   "source": [
    "# C:\\Users\\amart50\\Desktop\\skull2animal\\skull2fox\\class\n",
    "# combine the foxes into one folder \n",
    "for folder in os.listdir('C:\\\\Users\\\\amart50\\\\Desktop\\\\skull2animal\\\\skull2fox\\\\class'):\n",
    "    for image in os.listdir('C:\\\\Users\\\\amart50\\\\Desktop\\\\skull2animal\\\\skull2fox\\\\class\\\\' + folder):\n",
    "        shutil.copy('C:\\\\Users\\\\amart50\\\\Desktop\\\\skull2animal\\\\skull2fox\\\\class\\\\' + folder + '\\\\' + image, 'C:\\\\Users\\\\amart50\\\\Desktop\\\\skull2animal\\\\skull2fox\\\\combined_foxes\\\\' + image)"
   ]
  },
  {
   "cell_type": "code",
   "execution_count": 54,
   "metadata": {},
   "outputs": [
    {
     "name": "stdout",
     "output_type": "stream",
     "text": [
      "464\n"
     ]
    }
   ],
   "source": [
    "print(len(os.listdir('C:\\\\Users\\\\amart50\\\\Desktop\\\\skull2animal\\\\skull2fox\\\\combined_foxes')))"
   ]
  },
  {
   "cell_type": "code",
   "execution_count": 55,
   "metadata": {},
   "outputs": [
    {
     "name": "stdout",
     "output_type": "stream",
     "text": [
      "464\n",
      "46\n"
     ]
    }
   ],
   "source": [
    "# split into train and test with the same split \n",
    "combined_foxes = len(os.listdir('C:\\\\Users\\\\amart50\\\\Desktop\\\\skull2animal\\\\skull2fox\\\\combined_foxes'))\n",
    "print(combined_foxes)\n",
    "test_foxes = int(combined_foxes * .1)\n",
    "print(test_foxes)\n",
    "\n",
    "# move test_foxes images from combined_foxes to testB \n",
    "for i in range(test_foxes):\n",
    "    random_image = os.listdir('C:\\\\Users\\\\amart50\\\\Desktop\\\\skull2animal\\\\skull2fox\\\\combined_foxes')[np.random.randint(0, len(os.listdir('C:\\\\Users\\\\amart50\\\\Desktop\\\\skull2animal\\\\skull2fox\\\\combined_foxes')))]\n",
    "    shutil.move('C:\\\\Users\\\\amart50\\\\Desktop\\\\skull2animal\\\\skull2fox\\\\combined_foxes\\\\' + random_image, 'C:\\\\Users\\\\amart50\\\\Desktop\\\\skull2animal\\\\skull2fox\\\\testB\\\\' + random_image)"
   ]
  },
  {
   "cell_type": "code",
   "execution_count": 56,
   "metadata": {},
   "outputs": [],
   "source": [
    "# leopards\n",
    "skull2leopard = 'C:\\\\Users\\\\amart50\\\\Desktop\\\\skull2animal\\\\skull2leopard\\\\class'\n",
    "for index, row in wild_df.iterrows():\n",
    "    image_path = \"C:\\\\Users\\\\amart50\\\\Desktop\\\\AFHQ\\\\train\\\\wild\\\\\" + row['filename']\n",
    "    if row['label'] in leopard_classes:\n",
    "        if os.path.exists(skull2leopard + \"\\\\\" + row['label']):\n",
    "            shutil.copy(image_path, skull2leopard + \"\\\\\" + row['label'] + \"\\\\\" + row['filename']) \n",
    "        else:\n",
    "            os.mkdir(skull2leopard + \"\\\\\" + row['label'])\n",
    "            shutil.copy(image_path, skull2leopard + \"\\\\\" + row['label'] + \"\\\\\" + row['filename'])"
   ]
  },
  {
   "cell_type": "code",
   "execution_count": 58,
   "metadata": {},
   "outputs": [],
   "source": [
    "for index, row in wild_df2.iterrows():\n",
    "    image_path = \"C:\\\\Users\\\\amart50\\\\Desktop\\\\AFHQ\\\\test\\\\wild\\\\\" + row['filename']\n",
    "    if row['label'] in leopard_classes:\n",
    "        if os.path.exists(skull2leopard + \"\\\\\" + row['label']):\n",
    "            shutil.copy(image_path, skull2leopard + \"\\\\\" + row['label'] + \"\\\\\" + row['filename']) \n",
    "        else:\n",
    "            os.mkdir(skull2leopard + \"\\\\\" + row['label'])\n",
    "            shutil.copy(image_path, skull2leopard + \"\\\\\" + row['label'] + \"\\\\\" + row['filename'])"
   ]
  },
  {
   "cell_type": "code",
   "execution_count": 59,
   "metadata": {},
   "outputs": [
    {
     "name": "stdout",
     "output_type": "stream",
     "text": [
      "cheetah 665\n",
      "jaguar 253\n",
      "leopard 477\n",
      "snow leopard 282\n"
     ]
    }
   ],
   "source": [
    "for folder in os.listdir(skull2leopard):\n",
    "    print(folder, len(os.listdir(skull2leopard + \"\\\\\" + folder)))"
   ]
  },
  {
   "cell_type": "code",
   "execution_count": 61,
   "metadata": {},
   "outputs": [
    {
     "name": "stdout",
     "output_type": "stream",
     "text": [
      "291 192 242 725\n"
     ]
    }
   ],
   "source": [
    "clouded_count = len(os.listdir('C:\\\\Users\\\\amart50\\\\Desktop\\\\wild\\\\cloudedleopard\\\\skull'))\n",
    "leopard_count = len(os.listdir('C:\\\\Users\\\\amart50\\\\Desktop\\\\wild\\\\leopard\\\\skull'))\n",
    "cheetah_count = len(os.listdir('C:\\\\Users\\\\amart50\\\\Desktop\\\\wild\\\\cheetah\\\\skull'))\n",
    "print(clouded_count, leopard_count, cheetah_count, clouded_count+leopard_count+cheetah_count)"
   ]
  },
  {
   "cell_type": "code",
   "execution_count": 62,
   "metadata": {},
   "outputs": [],
   "source": [
    "for image in os.listdir('C:\\\\Users\\\\amart50\\\\Desktop\\\\wild\\\\cloudedleopard\\\\skull'):\n",
    "    new_name = image.replace('_MG','cloudedleopard')\n",
    "    os.rename('C:\\\\Users\\\\amart50\\\\Desktop\\\\wild\\\\cloudedleopard\\\\skull\\\\' + image, 'C:\\\\Users\\\\amart50\\\\Desktop\\\\wild\\\\cloudedleopard\\\\skull\\\\' + new_name)\n",
    "\n",
    "for image in os.listdir('C:\\\\Users\\\\amart50\\\\Desktop\\\\wild\\\\leopard\\\\skull'):\n",
    "    new_name = image.replace('_MG','leopard')\n",
    "    os.rename('C:\\\\Users\\\\amart50\\\\Desktop\\\\wild\\\\leopard\\\\skull\\\\' + image, 'C:\\\\Users\\\\amart50\\\\Desktop\\\\wild\\\\leopard\\\\skull\\\\' + new_name)\n",
    "\n",
    "for image in os.listdir('C:\\\\Users\\\\amart50\\\\Desktop\\\\wild\\\\cheetah\\\\skull'):\n",
    "    new_name = image.replace('_MG','cheetah')\n",
    "    os.rename('C:\\\\Users\\\\amart50\\\\Desktop\\\\wild\\\\cheetah\\\\skull\\\\' + image, 'C:\\\\Users\\\\amart50\\\\Desktop\\\\wild\\\\cheetah\\\\skull\\\\' + new_name)\n"
   ]
  },
  {
   "cell_type": "code",
   "execution_count": 64,
   "metadata": {},
   "outputs": [],
   "source": [
    "# combine all into one folder combined_leopard\\skull\n",
    "for image in os.listdir('C:\\\\Users\\\\amart50\\\\Desktop\\\\wild\\\\cloudedleopard\\\\skull'):\n",
    "    shutil.copy('C:\\\\Users\\\\amart50\\\\Desktop\\\\wild\\\\cloudedleopard\\\\skull\\\\' + image, 'C:\\\\Users\\\\amart50\\\\Desktop\\\\wild\\\\leopard\\\\combined_leopard\\\\trainA\\\\' + image)\n",
    "\n",
    "for image in os.listdir('C:\\\\Users\\\\amart50\\\\Desktop\\\\wild\\\\leopard\\\\skull'):\n",
    "    shutil.copy('C:\\\\Users\\\\amart50\\\\Desktop\\\\wild\\\\leopard\\\\skull\\\\' + image, 'C:\\\\Users\\\\amart50\\\\Desktop\\\\wild\\\\leopard\\\\combined_leopard\\\\trainA\\\\' + image)\n",
    "\n",
    "for image in os.listdir('C:\\\\Users\\\\amart50\\\\Desktop\\\\wild\\\\cheetah\\\\skull'):\n",
    "    shutil.copy('C:\\\\Users\\\\amart50\\\\Desktop\\\\wild\\\\cheetah\\\\skull\\\\' + image, 'C:\\\\Users\\\\amart50\\\\Desktop\\\\wild\\\\leopard\\\\combined_leopard\\\\trainA\\\\' + image)"
   ]
  },
  {
   "cell_type": "code",
   "execution_count": 66,
   "metadata": {},
   "outputs": [
    {
     "name": "stdout",
     "output_type": "stream",
     "text": [
      "725\n",
      "72\n"
     ]
    }
   ],
   "source": [
    "# split into train and test with the same split\n",
    "combined_leopard = len(os.listdir('C:\\\\Users\\\\amart50\\\\Desktop\\\\wild\\\\leopard\\\\combined_leopard\\\\trainA'))\n",
    "print(combined_leopard)\n",
    "test_leopard = int(combined_leopard * .1)\n",
    "print(test_leopard)\n",
    "\n",
    "# move test_leopard images from combined_leopard to testA\n",
    "for i in range(test_leopard):\n",
    "    random_image = os.listdir('C:\\\\Users\\\\amart50\\\\Desktop\\\\wild\\\\leopard\\\\combined_leopard\\\\trainA')[np.random.randint(0, len(os.listdir('C:\\\\Users\\\\amart50\\\\Desktop\\\\wild\\\\leopard\\\\combined_leopard\\\\trainA')))]\n",
    "    shutil.move('C:\\\\Users\\\\amart50\\\\Desktop\\\\wild\\\\leopard\\\\combined_leopard\\\\trainA\\\\' + random_image, 'C:\\\\Users\\\\amart50\\\\Desktop\\\\wild\\\\leopard\\\\combined_leopard\\\\testA\\\\' + random_image)\n"
   ]
  },
  {
   "cell_type": "code",
   "execution_count": 67,
   "metadata": {},
   "outputs": [],
   "source": [
    "# combine leopards into one folder\n",
    "for folder in os.listdir('C:\\\\Users\\\\amart50\\\\Desktop\\\\skull2animal\\\\skull2leopard\\\\class'):\n",
    "    for image in os.listdir('C:\\\\Users\\\\amart50\\\\Desktop\\\\skull2animal\\\\skull2leopard\\\\class\\\\' + folder):\n",
    "        shutil.copy('C:\\\\Users\\\\amart50\\\\Desktop\\\\skull2animal\\\\skull2leopard\\\\class\\\\' + folder + '\\\\' + image, 'C:\\\\Users\\\\amart50\\\\Desktop\\\\skull2animal\\\\skull2leopard\\\\combined_leopards\\\\' + image)"
   ]
  },
  {
   "cell_type": "code",
   "execution_count": 68,
   "metadata": {},
   "outputs": [
    {
     "name": "stdout",
     "output_type": "stream",
     "text": [
      "1677\n",
      "167\n"
     ]
    }
   ],
   "source": [
    "# split into train and test with the same split\n",
    "combined_leopards = len(os.listdir('C:\\\\Users\\\\amart50\\\\Desktop\\\\skull2animal\\\\skull2leopard\\\\combined_leopards'))\n",
    "print(combined_leopards)\n",
    "test_leopards = int(combined_leopards * .1)\n",
    "print(test_leopards)\n",
    "\n",
    "# move test_leopards images from combined_leopards to testB\n",
    "for i in range(test_leopards):\n",
    "    random_image = os.listdir('C:\\\\Users\\\\amart50\\\\Desktop\\\\skull2animal\\\\skull2leopard\\\\combined_leopards')[np.random.randint(0, len(os.listdir('C:\\\\Users\\\\amart50\\\\Desktop\\\\skull2animal\\\\skull2leopard\\\\combined_leopards')))]\n",
    "    shutil.move('C:\\\\Users\\\\amart50\\\\Desktop\\\\skull2animal\\\\skull2leopard\\\\combined_leopards\\\\' + random_image, 'C:\\\\Users\\\\amart50\\\\Desktop\\\\skull2animal\\\\skull2leopard\\\\testB\\\\' + random_image)\n"
   ]
  }
 ],
 "metadata": {
  "kernelspec": {
   "display_name": "classifier",
   "language": "python",
   "name": "python3"
  },
  "language_info": {
   "codemirror_mode": {
    "name": "ipython",
    "version": 3
   },
   "file_extension": ".py",
   "mimetype": "text/x-python",
   "name": "python",
   "nbconvert_exporter": "python",
   "pygments_lexer": "ipython3",
   "version": "3.10.11"
  },
  "orig_nbformat": 4
 },
 "nbformat": 4,
 "nbformat_minor": 2
}
