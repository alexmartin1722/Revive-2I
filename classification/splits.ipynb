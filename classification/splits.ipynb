{
 "cells": [
  {
   "cell_type": "code",
   "execution_count": 29,
   "metadata": {},
   "outputs": [],
   "source": [
    "import sys \n",
    "import os"
   ]
  },
  {
   "cell_type": "code",
   "execution_count": 30,
   "metadata": {},
   "outputs": [],
   "source": [
    "import pandas as pd\n",
    "import shutil"
   ]
  },
  {
   "cell_type": "code",
   "execution_count": 31,
   "metadata": {},
   "outputs": [],
   "source": [
    "important_classes = ['Rottweiler', 'boxer', 'Boston bull', 'Chihuahua', 'Great Dane', 'Pekinese']"
   ]
  },
  {
   "cell_type": "code",
   "execution_count": 32,
   "metadata": {},
   "outputs": [],
   "source": [
    "# afhq_csv1 = C:\\Users\\amart50\\Desktop\\AFHQ\\train_dog_labels.csv\n",
    "dog_df = pd.read_csv(\"C:\\\\Users\\\\amart50\\\\Desktop\\\\AFHQ\\\\train_dog_labels.csv\")\n",
    "dog_df2 = pd.read_csv(\"C:\\\\Users\\\\amart50\\\\Desktop\\\\AFHQ\\\\test_dog_labels.csv\")\n",
    "\n",
    "#join the two dataframes into dog_df\n",
    "# dog_df = dog_df.append(dog_df2, ignore_index=True) # append doesnt exist\n",
    "# dog_df = pd.concat([dog_df, dog_df2], ignore_index=True)"
   ]
  },
  {
   "cell_type": "code",
   "execution_count": 33,
   "metadata": {},
   "outputs": [],
   "source": [
    "# C:\\Users\\amart50\\Desktop\\skull2animal\\skull2dog\\class -- folder for sorted images\n",
    "\n",
    "# for image in dog_df, if it is in important_classes, move it to the folder\n",
    "for index, row in dog_df.iterrows():\n",
    "    image_path = \"C:\\\\Users\\\\amart50\\\\Desktop\\\\AFHQ\\\\train\\\\dog\\\\\" + row['filename']\n",
    "    if row['label'] in important_classes:\n",
    "        if os.path.exists(\"C:\\\\Users\\\\amart50\\\\Desktop\\\\skull2animal\\\\skull2dog\\\\class\\\\\" + row['label']):\n",
    "            shutil.copy(image_path, \"C:\\\\Users\\\\amart50\\\\Desktop\\\\skull2animal\\\\skull2dog\\\\class\\\\\" + row['label'] + \"\\\\\" + row['filename']) \n",
    "        else:\n",
    "            os.mkdir(\"C:\\\\Users\\\\amart50\\\\Desktop\\\\skull2animal\\\\skull2dog\\\\class\\\\\" + row['label'])\n",
    "            shutil.copy(image_path, \"C:\\\\Users\\\\amart50\\\\Desktop\\\\skull2animal\\\\skull2dog\\\\class\\\\\" + row['label'] + \"\\\\\" + row['filename']) "
   ]
  },
  {
   "cell_type": "code",
   "execution_count": 34,
   "metadata": {},
   "outputs": [],
   "source": [
    "for index, row in dog_df2.iterrows():\n",
    "    image_path = \"C:\\\\Users\\\\amart50\\\\Desktop\\\\AFHQ\\\\test\\\\dog\\\\\" + row['filename']\n",
    "    if row['label'] in important_classes:\n",
    "        if os.path.exists(\"C:\\\\Users\\\\amart50\\\\Desktop\\\\skull2animal\\\\skull2dog\\\\class\\\\\" + row['label']):\n",
    "            shutil.copy(image_path, \"C:\\\\Users\\\\amart50\\\\Desktop\\\\skull2animal\\\\skull2dog\\\\class\\\\\" + row['label'] + \"\\\\\" + row['filename']) \n",
    "        else:\n",
    "            os.mkdir(\"C:\\\\Users\\\\amart50\\\\Desktop\\\\skull2animal\\\\skull2dog\\\\class\\\\\" + row['label'])\n",
    "            shutil.copy(image_path, \"C:\\\\Users\\\\amart50\\\\Desktop\\\\skull2animal\\\\skull2dog\\\\class\\\\\" + row['label'] + \"\\\\\" + row['filename']) "
   ]
  },
  {
   "cell_type": "code",
   "execution_count": 48,
   "metadata": {},
   "outputs": [
    {
     "name": "stdout",
     "output_type": "stream",
     "text": [
      "Boston bull 22\n",
      "boxer 71\n",
      "Chihuahua 215\n",
      "Great Dane 27\n",
      "Pekinese 26\n",
      "Rottweiler 61\n",
      "422\n"
     ]
    }
   ],
   "source": [
    "# for every folder in class, count how many images are in that folder \n",
    "running_sum = 0\n",
    "for folder in os.listdir(\"C:\\\\Users\\\\amart50\\\\Desktop\\\\skull2animal\\\\skull2dog\\\\class\\\\\"):\n",
    "    print(folder, len(os.listdir(\"C:\\\\Users\\\\amart50\\\\Desktop\\\\skull2animal\\\\skull2dog\\\\class\\\\\" + folder)))\n",
    "    running_sum += len(os.listdir(\"C:\\\\Users\\\\amart50\\\\Desktop\\\\skull2animal\\\\skull2dog\\\\class\\\\\" + folder))\n",
    "print(running_sum)"
   ]
  },
  {
   "cell_type": "code",
   "execution_count": 39,
   "metadata": {},
   "outputs": [],
   "source": [
    "important_cats = ['Siamese cat']\n",
    "cat_df = pd.read_csv(\"C:\\\\Users\\\\amart50\\\\Desktop\\\\AFHQ\\\\train_cat_labels.csv\")\n",
    "cat_df2 = pd.read_csv(\"C:\\\\Users\\\\amart50\\\\Desktop\\\\AFHQ\\\\test_cat_labels.csv\")"
   ]
  },
  {
   "cell_type": "code",
   "execution_count": 41,
   "metadata": {},
   "outputs": [],
   "source": [
    "for index, row in cat_df.iterrows():\n",
    "    image_path = \"C:\\\\Users\\\\amart50\\\\Desktop\\\\AFHQ\\\\train\\\\cat\\\\\" + row['filename']\n",
    "    if row['label'] in important_cats:\n",
    "        if os.path.exists(\"C:\\\\Users\\\\amart50\\\\Desktop\\\\skull2animal\\\\skull2cat\\\\class\\\\\" + row['label']):\n",
    "            shutil.copy(image_path, \"C:\\\\Users\\\\amart50\\\\Desktop\\\\skull2animal\\\\skull2cat\\\\class\\\\\" + row['label'] + \"\\\\\" + row['filename']) \n",
    "        else:\n",
    "            os.mkdir(\"C:\\\\Users\\\\amart50\\\\Desktop\\\\skull2animal\\\\skull2cat\\\\class\\\\\" + row['label'])\n",
    "            shutil.copy(image_path, \"C:\\\\Users\\\\amart50\\\\Desktop\\\\skull2animal\\\\skull2cat\\\\class\\\\\" + row['label'] + \"\\\\\" + row['filename'])"
   ]
  },
  {
   "cell_type": "code",
   "execution_count": 43,
   "metadata": {},
   "outputs": [],
   "source": [
    "for index, row in cat_df2.iterrows():\n",
    "    image_path = \"C:\\\\Users\\\\amart50\\\\Desktop\\\\AFHQ\\\\test\\\\cat\\\\\" + row['filename']\n",
    "    if row['label'] in important_cats:\n",
    "        if os.path.exists(\"C:\\\\Users\\\\amart50\\\\Desktop\\\\skull2animal\\\\skull2cat\\\\class\\\\\" + row['label']):\n",
    "            shutil.copy(image_path, \"C:\\\\Users\\\\amart50\\\\Desktop\\\\skull2animal\\\\skull2cat\\\\class\\\\\" + row['label'] + \"\\\\\" + row['filename']) \n",
    "        else:\n",
    "            os.mkdir(\"C:\\\\Users\\\\amart50\\\\Desktop\\\\skull2animal\\\\skull2cat\\\\class\\\\\" + row['label'])\n",
    "            shutil.copy(image_path, \"C:\\\\Users\\\\amart50\\\\Desktop\\\\skull2animal\\\\skull2cat\\\\class\\\\\" + row['label'] + \"\\\\\" + row['filename'])"
   ]
  },
  {
   "cell_type": "code",
   "execution_count": 49,
   "metadata": {},
   "outputs": [
    {
     "name": "stdout",
     "output_type": "stream",
     "text": [
      "Siamese cat 318\n",
      "318\n"
     ]
    }
   ],
   "source": [
    "# for every folder in class, count how many images are in that folder \n",
    "cat_sum = 0\n",
    "for folder in os.listdir(\"C:\\\\Users\\\\amart50\\\\Desktop\\\\skull2animal\\\\skull2cat\\\\class\\\\\"):\n",
    "    print(folder, len(os.listdir(\"C:\\\\Users\\\\amart50\\\\Desktop\\\\skull2animal\\\\skull2cat\\\\class\\\\\" + folder)))\n",
    "    cat_sum += len(os.listdir(\"C:\\\\Users\\\\amart50\\\\Desktop\\\\skull2animal\\\\skull2cat\\\\class\\\\\" + folder))\n",
    "print(cat_sum)"
   ]
  }
 ],
 "metadata": {
  "kernelspec": {
   "display_name": "classifier",
   "language": "python",
   "name": "python3"
  },
  "language_info": {
   "codemirror_mode": {
    "name": "ipython",
    "version": 3
   },
   "file_extension": ".py",
   "mimetype": "text/x-python",
   "name": "python",
   "nbconvert_exporter": "python",
   "pygments_lexer": "ipython3",
   "version": "3.11.3"
  },
  "orig_nbformat": 4
 },
 "nbformat": 4,
 "nbformat_minor": 2
}
